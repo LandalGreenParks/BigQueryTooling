{
  "nbformat": 4,
  "nbformat_minor": 0,
  "metadata": {
    "colab": {
      "name": "Delete Multiple BQ Tables.ipynb",
      "provenance": [],
      "collapsed_sections": [],
      "authorship_tag": "ABX9TyO3Z/zCxC8LxxR1mVDGpNSJ",
      "include_colab_link": true
    },
    "kernelspec": {
      "name": "python3",
      "display_name": "Python 3"
    }
  },
  "cells": [
    {
      "cell_type": "markdown",
      "metadata": {
        "id": "view-in-github",
        "colab_type": "text"
      },
      "source": [
        "<a href=\"https://colab.research.google.com/github/MarkTijssen/BigQueryTooling/blob/master/Delete_Multiple_BQ_Tables.ipynb\" target=\"_parent\"><img src=\"https://colab.research.google.com/assets/colab-badge.svg\" alt=\"Open In Colab\"/></a>"
      ]
    },
    {
      "cell_type": "code",
      "metadata": {
        "id": "Qnbg4VZQfrEf",
        "colab_type": "code",
        "colab": {}
      },
      "source": [
        "from google.cloud import bigquery\n"
      ],
      "execution_count": 0,
      "outputs": []
    },
    {
      "cell_type": "code",
      "metadata": {
        "id": "G63R0N1bhl6c",
        "colab_type": "code",
        "colab": {}
      },
      "source": [
        "\n",
        "from google.colab import auth\n",
        "auth.authenticate_user()\n"
      ],
      "execution_count": 0,
      "outputs": []
    },
    {
      "cell_type": "markdown",
      "metadata": {
        "id": "gmOUzNHpmD_F",
        "colab_type": "text"
      },
      "source": [
        "# Configure!"
      ]
    },
    {
      "cell_type": "code",
      "metadata": {
        "id": "lYHOd35LgVNX",
        "colab_type": "code",
        "colab": {}
      },
      "source": [
        "project_id= '901492054369'\n",
        "project_name= 'landal-evolution-platform'\n",
        "dataset_id = f'{project_name}.kc_sandbox'\n",
        "\n",
        "table_format = 'billing_info_mi_temp_'"
      ],
      "execution_count": 0,
      "outputs": []
    },
    {
      "cell_type": "markdown",
      "metadata": {
        "id": "YJ1xQliQmoWS",
        "colab_type": "text"
      },
      "source": [
        "# Get Tables"
      ]
    },
    {
      "cell_type": "code",
      "metadata": {
        "id": "BvEJcKIjgUYg",
        "colab_type": "code",
        "colab": {}
      },
      "source": [
        "\n",
        "# TODO(developer): Construct a BigQuery client object.\n",
        "client = bigquery.Client(project_id)\n",
        "dataset = client.get_dataset(dataset_id)\n"
      ],
      "execution_count": 0,
      "outputs": []
    },
    {
      "cell_type": "code",
      "metadata": {
        "id": "57QnUEw8gWXZ",
        "colab_type": "code",
        "colab": {}
      },
      "source": [
        "\n",
        "# Creating a list of all tables in the above dataset\n",
        "tables = list(client.list_tables(dataset))  # API request(s)\n",
        "\n",
        "\n",
        "## Filtering out relevant wildcard tables to be deleted\n",
        "## Mention a substring that's common in all your tables that you want to delete\n",
        "# print(tables)"
      ],
      "execution_count": 0,
      "outputs": []
    },
    {
      "cell_type": "markdown",
      "metadata": {
        "id": "QFkBFxWGmQS4",
        "colab_type": "text"
      },
      "source": [
        "# Check!"
      ]
    },
    {
      "cell_type": "code",
      "metadata": {
        "id": "ahgDFF_OgXfM",
        "colab_type": "code",
        "outputId": "9276a90c-a09f-44d1-9550-89c6b460020d",
        "colab": {
          "base_uri": "https://localhost:8080/",
          "height": 187
        }
      },
      "source": [
        "\n",
        "tables_to_delete = [\"{}.{}.{}\".format(dataset.project, dataset.dataset_id, table.table_id) \n",
        "                    for table in tables if table_format in format(table.table_id)]\n",
        "\n",
        "tables_to_delete"
      ],
      "execution_count": 0,
      "outputs": [
        {
          "output_type": "execute_result",
          "data": {
            "text/plain": [
              "['landal-evolution-platform.kc_sandbox.billing_info_mi_temp_1',\n",
              " 'landal-evolution-platform.kc_sandbox.billing_info_mi_temp_10',\n",
              " 'landal-evolution-platform.kc_sandbox.billing_info_mi_temp_2',\n",
              " 'landal-evolution-platform.kc_sandbox.billing_info_mi_temp_3',\n",
              " 'landal-evolution-platform.kc_sandbox.billing_info_mi_temp_4',\n",
              " 'landal-evolution-platform.kc_sandbox.billing_info_mi_temp_5',\n",
              " 'landal-evolution-platform.kc_sandbox.billing_info_mi_temp_6',\n",
              " 'landal-evolution-platform.kc_sandbox.billing_info_mi_temp_7',\n",
              " 'landal-evolution-platform.kc_sandbox.billing_info_mi_temp_8',\n",
              " 'landal-evolution-platform.kc_sandbox.billing_info_mi_temp_9']"
            ]
          },
          "metadata": {
            "tags": []
          },
          "execution_count": 15
        }
      ]
    },
    {
      "cell_type": "markdown",
      "metadata": {
        "id": "dPdGtv-AmS-E",
        "colab_type": "text"
      },
      "source": [
        "# Execute!"
      ]
    },
    {
      "cell_type": "code",
      "metadata": {
        "id": "dUYFpIWUgb0I",
        "colab_type": "code",
        "outputId": "ea610eda-5218-42cb-99e7-dcb92852fc93",
        "colab": {
          "base_uri": "https://localhost:8080/",
          "height": 187
        }
      },
      "source": [
        "\n",
        "for table in tables_to_delete:\n",
        "    client.delete_table(table)\n",
        "    print(\"Deleted table {}\".format(table))  "
      ],
      "execution_count": 0,
      "outputs": [
        {
          "output_type": "stream",
          "text": [
            "Deleted table landal-evolution-platform.kc_sandbox.billing_info_mi_temp_1\n",
            "Deleted table landal-evolution-platform.kc_sandbox.billing_info_mi_temp_10\n",
            "Deleted table landal-evolution-platform.kc_sandbox.billing_info_mi_temp_2\n",
            "Deleted table landal-evolution-platform.kc_sandbox.billing_info_mi_temp_3\n",
            "Deleted table landal-evolution-platform.kc_sandbox.billing_info_mi_temp_4\n",
            "Deleted table landal-evolution-platform.kc_sandbox.billing_info_mi_temp_5\n",
            "Deleted table landal-evolution-platform.kc_sandbox.billing_info_mi_temp_6\n",
            "Deleted table landal-evolution-platform.kc_sandbox.billing_info_mi_temp_7\n",
            "Deleted table landal-evolution-platform.kc_sandbox.billing_info_mi_temp_8\n",
            "Deleted table landal-evolution-platform.kc_sandbox.billing_info_mi_temp_9\n"
          ],
          "name": "stdout"
        }
      ]
    },
    {
      "cell_type": "code",
      "metadata": {
        "id": "scwVOwbQkLml",
        "colab_type": "code",
        "colab": {}
      },
      "source": [
        ""
      ],
      "execution_count": 0,
      "outputs": []
    }
  ]
}